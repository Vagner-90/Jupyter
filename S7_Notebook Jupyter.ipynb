{
 "cells": [
  {
   "cell_type": "code",
   "execution_count": 1,
   "id": "01db0f17",
   "metadata": {},
   "outputs": [],
   "source": [
    "import snap7"
   ]
  },
  {
   "cell_type": "markdown",
   "id": "325f0874",
   "metadata": {},
   "source": []
  },
  {
   "cell_type": "code",
   "execution_count": 3,
   "id": "6ae2a28a",
   "metadata": {},
   "outputs": [],
   "source": [
    "ip = '192.168.x.x'\n",
    "rack = 0\n",
    "slot= 2\n",
    "plc = snap7.client.Client()\n",
    "plc.connect(ip,rack,slot)"
   ]
  },
  {
   "cell_type": "code",
   "execution_count": 4,
   "id": "3ec7b788",
   "metadata": {},
   "outputs": [],
   "source": [
    "db_number = 972\n",
    "start = 0\n",
    "size =254"
   ]
  },
  {
   "cell_type": "code",
   "execution_count": null,
   "id": "259053d5",
   "metadata": {},
   "outputs": [],
   "source": [
    "print(plc.get_cpu_state())      \n",
    "print(plc.get_cpu_info())\n",
    "print(plc.get_plc_datetime())\n",
    "print (plc.get_connected())"
   ]
  }
 ],
 "metadata": {
  "kernelspec": {
   "display_name": "Python 3",
   "language": "python",
   "name": "python3"
  },
  "language_info": {
   "codemirror_mode": {
    "name": "ipython",
    "version": 3
   },
   "file_extension": ".py",
   "mimetype": "text/x-python",
   "name": "python",
   "nbconvert_exporter": "python",
   "pygments_lexer": "ipython3",
   "version": "3.9.13"
  }
 },
 "nbformat": 4,
 "nbformat_minor": 5
}
